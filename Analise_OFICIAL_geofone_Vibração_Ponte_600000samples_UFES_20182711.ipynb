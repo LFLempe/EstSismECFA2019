{
 "cells": [
  {
   "cell_type": "markdown",
   "metadata": {},
   "source": [
    "## <center> Gráfico da amplitude x tempo e amplitude x frequência do geofone SM-24 <center>\n",
    "#### <center> Oscilação na ponte medidas em 27/11/2018 (Vibração), N = 600.000, $\\delta t = 0.002s$, $\\delta t total = 1200s$; ADC @ 860 Hz & gain 16 <center>                        \n",
    "\n",
    "#### <center> Local: Ponte no bairro Vila do Sul. Condições do ambiente: pessoas caminhando, tráfego de carros, motos e caminhão constantemente. O Rio sob a ponte era bastante ruidoso <center>\n",
    "\n",
    "##### <center>  Nome: Luiz Felipe Lempe<center>     "
   ]
  },
  {
   "cell_type": "code",
   "execution_count": 83,
   "metadata": {},
   "outputs": [],
   "source": [
    "import matplotlib.pyplot as plt\n",
    "import numpy as np"
   ]
  },
  {
   "cell_type": "markdown",
   "metadata": {},
   "source": [
    "Importa arquivo de dados '.csv' com 2a coluna sendo tensão (V) analógica do geofone e 3a coluna sendo aceleração em g do acelerômetro LSM303D :"
   ]
  },
  {
   "cell_type": "code",
   "execution_count": 84,
   "metadata": {},
   "outputs": [],
   "source": [
    "col1 = np.genfromtxt('dados.csv', usecols=[1], delimiter=',', skip_header=1)"
   ]
  },
  {
   "cell_type": "markdown",
   "metadata": {},
   "source": [
    "Limita os valores de lista que deseja usar. Exemplo: col1 = 2014. col1[:len(col1)//2] = 1024;\n",
    "col1[100:1000] => pega os dados do 101 até o 1000 :"
   ]
  },
  {
   "cell_type": "code",
   "execution_count": 85,
   "metadata": {},
   "outputs": [],
   "source": [
    "col1 = col1[:600000]"
   ]
  },
  {
   "cell_type": "code",
   "execution_count": 86,
   "metadata": {},
   "outputs": [
    {
     "data": {
      "text/plain": [
       "600000"
      ]
     },
     "execution_count": 86,
     "metadata": {},
     "output_type": "execute_result"
    }
   ],
   "source": [
    "num_medidas = len(col1)\n",
    "num_medidas"
   ]
  },
  {
   "cell_type": "code",
   "execution_count": 87,
   "metadata": {},
   "outputs": [
    {
     "name": "stdout",
     "output_type": "stream",
     "text": [
      "Taxa de amostragem: 500.0 Hz\n",
      "Resolução em frequência dF = Fs/N: 0.000833333333333 Hz\n"
     ]
    }
   ],
   "source": [
    "dT = 0.002 # Intervalo de amostragem\n",
    "Fs = 1/dT  # Taxa de Amostragem (samples/s ou Hz);\n",
    "print(\"Taxa de amostragem: {} Hz\".format(Fs))\n",
    "print(\"Resolução em frequência dF = Fs/N: {} Hz\".format(Fs/num_medidas))"
   ]
  },
  {
   "cell_type": "code",
   "execution_count": 88,
   "metadata": {},
   "outputs": [
    {
     "name": "stdout",
     "output_type": "stream",
     "text": [
      "lista y tem 600000 valores\n"
     ]
    }
   ],
   "source": [
    "y = np.array(col1)\n",
    "print(\"lista y tem {} valores\".format(len(y)))\n",
    "#y"
   ]
  },
  {
   "cell_type": "code",
   "execution_count": 89,
   "metadata": {},
   "outputs": [
    {
     "data": {
      "image/png": "[encoded data removed]",
      "text/plain": [
       "<Figure size 432x288 with 1 Axes>"
      ]
     },
     "metadata": {
      "needs_background": "light"
     },
     "output_type": "display_data"
    }
   ],
   "source": [
    "#Grafico no dominio do tempo\n",
    "fig = plt.figure()\n",
    "plt.xlabel(\"t (s)\", fontsize=12)\n",
    "plt.ylabel(\"amplitude (V)\", fontsize=12)\n",
    "plt.title(u'Amplitude x tempo do geofone', fontsize=14) \n",
    "plt.gcf().subplots_adjust (left=0.15)  # evita que o título do eixo y seja cortado ao ser salva a figura.\n",
    "plt.plot(t, y);\n",
    "plt.ylim(ymin=0, ymax=0.30);\n",
    "fig.savefig(\"Amplitude_cte_geofone.png\")\n",
    "#plt.show()"
   ]
  },
  {
   "cell_type": "code",
   "execution_count": 90,
   "metadata": {},
   "outputs": [
    {
     "data": {
      "text/plain": [
       "600000"
      ]
     },
     "execution_count": 90,
     "metadata": {},
     "output_type": "execute_result"
    }
   ],
   "source": [
    "n = len(y)   # Número de elementos do sinal y(t) x t\n",
    "n"
   ]
  },
  {
   "cell_type": "code",
   "execution_count": 91,
   "metadata": {},
   "outputs": [],
   "source": [
    "k = np.arange(n)\n"
   ]
  },
  {
   "cell_type": "markdown",
   "metadata": {},
   "source": [
    "Uma lista $y(t)$ com $n$ elementos obtidos a uma taxa de amostragem de $F_s = 1/ \\delta t$, tem um intervalo de tempo $T = n\\, \\delta t = n/F_s$, onde $T = T_f - T_i$ :"
   ]
  },
  {
   "cell_type": "code",
   "execution_count": 92,
   "metadata": {},
   "outputs": [
    {
     "data": {
      "text/plain": [
       "1200.0"
      ]
     },
     "execution_count": 92,
     "metadata": {},
     "output_type": "execute_result"
    }
   ],
   "source": [
    "T = n/Fs\n",
    "T"
   ]
  },
  {
   "cell_type": "code",
   "execution_count": 93,
   "metadata": {},
   "outputs": [],
   "source": [
    "frqorig = k/T   # Faixa de frequencia de dois lados\n"
   ]
  },
  {
   "cell_type": "code",
   "execution_count": 94,
   "metadata": {},
   "outputs": [],
   "source": [
    "frq = frqorig[range(n//2)]   # Faixa de frequencia de dois lados\n"
   ]
  },
  {
   "cell_type": "code",
   "execution_count": 95,
   "metadata": {},
   "outputs": [],
   "source": [
    "Y = np.fft.fft(y)/n   # Computando FFT e normatizando\n"
   ]
  },
  {
   "cell_type": "code",
   "execution_count": 96,
   "metadata": {},
   "outputs": [],
   "source": [
    "Y = Y[range(n//2)]\n"
   ]
  },
  {
   "cell_type": "code",
   "execution_count": 97,
   "metadata": {},
   "outputs": [],
   "source": [
    "Y[0] = 0.0 + 0.0j\n"
   ]
  },
  {
   "cell_type": "code",
   "execution_count": 98,
   "metadata": {},
   "outputs": [
    {
     "data": {
      "image/png": "[encoded data removed]",
      "text/plain": [
       "<Figure size 432x288 with 1 Axes>"
      ]
     },
     "metadata": {
      "needs_background": "light"
     },
     "output_type": "display_data"
    }
   ],
   "source": [
    "#Grafico no dominio da frequencia\n",
    "fig = plt.figure()\n",
    "plt.xlabel(\"f (Hz)\", fontsize=12)\n",
    "plt.ylabel(\"amplitude (V)\",fontsize=12)\n",
    "#pylab.ylim([-1.1,5])\n",
    "#pylab.xlim([0,250])\n",
    "plt.gcf().subplots_adjust (left=0.15) # evita que o título do eixo y seja cortado ao ser salva a figura.\n",
    "plt.title(u'Espectro de frequência do geofone', fontsize=14)\n",
    "plt.plot(frq, abs(Y), 'r');\n",
    "fig.savefig(\"FFT_geofone.png\")\n",
    "#plt.show()"
   ]
  },
  {
   "cell_type": "code",
   "execution_count": null,
   "metadata": {},
   "outputs": [],
   "source": []
  },
  {
   "cell_type": "code",
   "execution_count": null,
   "metadata": {},
   "outputs": [],
   "source": []
  }
 ],
 "metadata": {
  "kernelspec": {
   "display_name": "Python 2",
   "language": "python",
   "name": "python2"
  },
  "language_info": {
   "codemirror_mode": {
    "name": "ipython",
    "version": 2
   },
   "file_extension": ".py",
   "mimetype": "text/x-python",
   "name": "python",
   "nbconvert_exporter": "python",
   "pygments_lexer": "ipython2",
   "version": "2.7.16"
  }
 },
 "nbformat": 4,
 "nbformat_minor": 2
}
